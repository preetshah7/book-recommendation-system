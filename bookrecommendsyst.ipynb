{
  "nbformat": 4,
  "nbformat_minor": 5,
  "metadata": {
    "kernelspec": {
      "display_name": "Python 3",
      "language": "python",
      "name": "python3"
    },
    "language_info": {
      "codemirror_mode": {
        "name": "ipython",
        "version": 3
      },
      "file_extension": ".py",
      "mimetype": "text/x-python",
      "name": "python",
      "nbconvert_exporter": "python",
      "pygments_lexer": "ipython3",
      "version": "3.7.9"
    },
    "papermill": {
      "default_parameters": {},
      "duration": 48.335755,
      "end_time": "2021-05-09T08:10:46.569194",
      "environment_variables": {},
      "exception": null,
      "input_path": "__notebook__.ipynb",
      "output_path": "__notebook__.ipynb",
      "parameters": {},
      "start_time": "2021-05-09T08:09:58.233439",
      "version": "2.3.2"
    },
    "colab": {
      "name": "bookrecommendsyst.ipynb",
      "provenance": [],
      "collapsed_sections": [],
      "include_colab_link": true
    }
  },
  "cells": [
    {
      "cell_type": "markdown",
      "metadata": {
        "id": "view-in-github",
        "colab_type": "text"
      },
      "source": [
        "<a href=\"https://colab.research.google.com/github/preetshah7/book-recommendation-system/blob/main/bookrecommendsyst.ipynb\" target=\"_parent\"><img src=\"https://colab.research.google.com/assets/colab-badge.svg\" alt=\"Open In Colab\"/></a>"
      ]
    },
    {
      "cell_type": "markdown",
      "metadata": {
        "id": "sfBJ-hTKCwbe"
      },
      "source": [
        "###Book Recommendation System\n",
        "-Preet Shah"
      ],
      "id": "sfBJ-hTKCwbe"
    },
    {
      "cell_type": "code",
      "metadata": {
        "execution": {
          "iopub.execute_input": "2021-05-09T08:10:05.007826Z",
          "iopub.status.busy": "2021-05-09T08:10:05.006624Z",
          "iopub.status.idle": "2021-05-09T08:10:06.079091Z",
          "shell.execute_reply": "2021-05-09T08:10:06.078089Z"
        },
        "papermill": {
          "duration": 1.105426,
          "end_time": "2021-05-09T08:10:06.079273",
          "exception": false,
          "start_time": "2021-05-09T08:10:04.973847",
          "status": "completed"
        },
        "tags": [],
        "id": "packed-briefing"
      },
      "source": [
        "import pandas as pd\n",
        "import numpy as np\n",
        "import seaborn as sns\n",
        "import matplotlib.pyplot as plt\n",
        "\n",
        "%matplotlib inline"
      ],
      "id": "packed-briefing",
      "execution_count": null,
      "outputs": []
    },
    {
      "cell_type": "code",
      "metadata": {
        "colab": {
          "resources": {
            "http://localhost:8080/nbextensions/google.colab/files.js": {
              "data": "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",
              "ok": true,
              "headers": [
                [
                  "content-type",
                  "application/javascript"
                ]
              ],
              "status": 200,
              "status_text": ""
            }
          },
          "base_uri": "https://localhost:8080/",
          "height": 73
        },
        "id": "VeSMwwA7YWj6",
        "outputId": "c6373ac9-dcf4-483f-8837-ed1320db5788"
      },
      "source": [
        "from google.colab import files\n",
        "uploaded = files.upload()"
      ],
      "id": "VeSMwwA7YWj6",
      "execution_count": null,
      "outputs": [
        {
          "output_type": "display_data",
          "data": {
            "text/html": [
              "\n",
              "     <input type=\"file\" id=\"files-e0e2b481-55c4-4cb9-b0d4-2a319f884cb4\" name=\"files[]\" multiple disabled\n",
              "        style=\"border:none\" />\n",
              "     <output id=\"result-e0e2b481-55c4-4cb9-b0d4-2a319f884cb4\">\n",
              "      Upload widget is only available when the cell has been executed in the\n",
              "      current browser session. Please rerun this cell to enable.\n",
              "      </output>\n",
              "      <script src=\"/nbextensions/google.colab/files.js\"></script> "
            ],
            "text/plain": [
              "<IPython.core.display.HTML object>"
            ]
          },
          "metadata": {
            "tags": []
          }
        },
        {
          "output_type": "stream",
          "text": [
            "Saving books.csv to books.csv\n"
          ],
          "name": "stdout"
        }
      ]
    },
    {
      "cell_type": "code",
      "metadata": {
        "execution": {
          "iopub.execute_input": "2021-05-09T08:10:06.206515Z",
          "iopub.status.busy": "2021-05-09T08:10:06.205834Z",
          "iopub.status.idle": "2021-05-09T08:10:06.291830Z",
          "shell.execute_reply": "2021-05-09T08:10:06.291110Z"
        },
        "papermill": {
          "duration": 0.121702,
          "end_time": "2021-05-09T08:10:06.291991",
          "exception": false,
          "start_time": "2021-05-09T08:10:06.170289",
          "status": "completed"
        },
        "tags": [],
        "colab": {
          "base_uri": "https://localhost:8080/"
        },
        "id": "lucky-counter",
        "outputId": "926535b6-fd4c-4a98-a14e-3c022509900b"
      },
      "source": [
        "df_book=pd.read_csv('books.csv', error_bad_lines = False)\n",
        "df_book.columns = df_book.columns.str.strip()"
      ],
      "id": "lucky-counter",
      "execution_count": null,
      "outputs": [
        {
          "output_type": "stream",
          "text": [
            "b'Skipping line 3350: expected 12 fields, saw 13\\nSkipping line 4704: expected 12 fields, saw 13\\nSkipping line 5879: expected 12 fields, saw 13\\nSkipping line 8981: expected 12 fields, saw 13\\n'\n"
          ],
          "name": "stderr"
        }
      ]
    },
    {
      "cell_type": "code",
      "metadata": {
        "execution": {
          "iopub.execute_input": "2021-05-09T08:10:06.416138Z",
          "iopub.status.busy": "2021-05-09T08:10:06.415241Z",
          "iopub.status.idle": "2021-05-09T08:10:06.419834Z",
          "shell.execute_reply": "2021-05-09T08:10:06.419248Z"
        },
        "papermill": {
          "duration": 0.039325,
          "end_time": "2021-05-09T08:10:06.419992",
          "exception": false,
          "start_time": "2021-05-09T08:10:06.380667",
          "status": "completed"
        },
        "tags": [],
        "colab": {
          "base_uri": "https://localhost:8080/"
        },
        "id": "recognized-qualification",
        "outputId": "9480a473-5608-4977-93f8-65b995e7dd41"
      },
      "source": [
        "print(df_book.shape)"
      ],
      "id": "recognized-qualification",
      "execution_count": null,
      "outputs": [
        {
          "output_type": "stream",
          "text": [
            "(11123, 12)\n"
          ],
          "name": "stdout"
        }
      ]
    },
    {
      "cell_type": "code",
      "metadata": {
        "execution": {
          "iopub.execute_input": "2021-05-09T08:10:06.484911Z",
          "iopub.status.busy": "2021-05-09T08:10:06.483959Z",
          "iopub.status.idle": "2021-05-09T08:10:06.499448Z",
          "shell.execute_reply": "2021-05-09T08:10:06.498709Z"
        },
        "papermill": {
          "duration": 0.049755,
          "end_time": "2021-05-09T08:10:06.499604",
          "exception": false,
          "start_time": "2021-05-09T08:10:06.449849",
          "status": "completed"
        },
        "tags": [],
        "colab": {
          "base_uri": "https://localhost:8080/"
        },
        "id": "under-auckland",
        "outputId": "a66fe0b1-22ab-46ec-fa41-042c9cb75f2b"
      },
      "source": [
        "print(df_book.isna().sum())"
      ],
      "id": "under-auckland",
      "execution_count": null,
      "outputs": [
        {
          "output_type": "stream",
          "text": [
            "bookID                0\n",
            "title                 0\n",
            "authors               0\n",
            "average_rating        0\n",
            "isbn                  0\n",
            "isbn13                0\n",
            "language_code         0\n",
            "num_pages             0\n",
            "ratings_count         0\n",
            "text_reviews_count    0\n",
            "publication_date      0\n",
            "publisher             0\n",
            "dtype: int64\n"
          ],
          "name": "stdout"
        }
      ]
    },
    {
      "cell_type": "code",
      "metadata": {
        "execution": {
          "iopub.execute_input": "2021-05-09T08:10:06.633883Z",
          "iopub.status.busy": "2021-05-09T08:10:06.633153Z",
          "iopub.status.idle": "2021-05-09T08:10:06.657155Z",
          "shell.execute_reply": "2021-05-09T08:10:06.656450Z"
        },
        "papermill": {
          "duration": 0.067096,
          "end_time": "2021-05-09T08:10:06.657303",
          "exception": false,
          "start_time": "2021-05-09T08:10:06.590207",
          "status": "completed"
        },
        "tags": [],
        "colab": {
          "base_uri": "https://localhost:8080/",
          "height": 330
        },
        "id": "protective-annotation",
        "outputId": "6e2c6945-f70f-40d6-fcfb-15cae3183b49"
      },
      "source": [
        "df_book.head(5)"
      ],
      "id": "protective-annotation",
      "execution_count": null,
      "outputs": [
        {
          "output_type": "execute_result",
          "data": {
            "text/html": [
              "<div>\n",
              "<style scoped>\n",
              "    .dataframe tbody tr th:only-of-type {\n",
              "        vertical-align: middle;\n",
              "    }\n",
              "\n",
              "    .dataframe tbody tr th {\n",
              "        vertical-align: top;\n",
              "    }\n",
              "\n",
              "    .dataframe thead th {\n",
              "        text-align: right;\n",
              "    }\n",
              "</style>\n",
              "<table border=\"1\" class=\"dataframe\">\n",
              "  <thead>\n",
              "    <tr style=\"text-align: right;\">\n",
              "      <th></th>\n",
              "      <th>bookID</th>\n",
              "      <th>title</th>\n",
              "      <th>authors</th>\n",
              "      <th>average_rating</th>\n",
              "      <th>isbn</th>\n",
              "      <th>isbn13</th>\n",
              "      <th>language_code</th>\n",
              "      <th>num_pages</th>\n",
              "      <th>ratings_count</th>\n",
              "      <th>text_reviews_count</th>\n",
              "      <th>publication_date</th>\n",
              "      <th>publisher</th>\n",
              "    </tr>\n",
              "  </thead>\n",
              "  <tbody>\n",
              "    <tr>\n",
              "      <th>0</th>\n",
              "      <td>1</td>\n",
              "      <td>Harry Potter and the Half-Blood Prince (Harry ...</td>\n",
              "      <td>J.K. Rowling/Mary GrandPré</td>\n",
              "      <td>4.57</td>\n",
              "      <td>0439785960</td>\n",
              "      <td>9780439785969</td>\n",
              "      <td>eng</td>\n",
              "      <td>652</td>\n",
              "      <td>2095690</td>\n",
              "      <td>27591</td>\n",
              "      <td>9/16/2006</td>\n",
              "      <td>Scholastic Inc.</td>\n",
              "    </tr>\n",
              "    <tr>\n",
              "      <th>1</th>\n",
              "      <td>2</td>\n",
              "      <td>Harry Potter and the Order of the Phoenix (Har...</td>\n",
              "      <td>J.K. Rowling/Mary GrandPré</td>\n",
              "      <td>4.49</td>\n",
              "      <td>0439358078</td>\n",
              "      <td>9780439358071</td>\n",
              "      <td>eng</td>\n",
              "      <td>870</td>\n",
              "      <td>2153167</td>\n",
              "      <td>29221</td>\n",
              "      <td>9/1/2004</td>\n",
              "      <td>Scholastic Inc.</td>\n",
              "    </tr>\n",
              "    <tr>\n",
              "      <th>2</th>\n",
              "      <td>4</td>\n",
              "      <td>Harry Potter and the Chamber of Secrets (Harry...</td>\n",
              "      <td>J.K. Rowling</td>\n",
              "      <td>4.42</td>\n",
              "      <td>0439554896</td>\n",
              "      <td>9780439554893</td>\n",
              "      <td>eng</td>\n",
              "      <td>352</td>\n",
              "      <td>6333</td>\n",
              "      <td>244</td>\n",
              "      <td>11/1/2003</td>\n",
              "      <td>Scholastic</td>\n",
              "    </tr>\n",
              "    <tr>\n",
              "      <th>3</th>\n",
              "      <td>5</td>\n",
              "      <td>Harry Potter and the Prisoner of Azkaban (Harr...</td>\n",
              "      <td>J.K. Rowling/Mary GrandPré</td>\n",
              "      <td>4.56</td>\n",
              "      <td>043965548X</td>\n",
              "      <td>9780439655484</td>\n",
              "      <td>eng</td>\n",
              "      <td>435</td>\n",
              "      <td>2339585</td>\n",
              "      <td>36325</td>\n",
              "      <td>5/1/2004</td>\n",
              "      <td>Scholastic Inc.</td>\n",
              "    </tr>\n",
              "    <tr>\n",
              "      <th>4</th>\n",
              "      <td>8</td>\n",
              "      <td>Harry Potter Boxed Set  Books 1-5 (Harry Potte...</td>\n",
              "      <td>J.K. Rowling/Mary GrandPré</td>\n",
              "      <td>4.78</td>\n",
              "      <td>0439682584</td>\n",
              "      <td>9780439682589</td>\n",
              "      <td>eng</td>\n",
              "      <td>2690</td>\n",
              "      <td>41428</td>\n",
              "      <td>164</td>\n",
              "      <td>9/13/2004</td>\n",
              "      <td>Scholastic</td>\n",
              "    </tr>\n",
              "  </tbody>\n",
              "</table>\n",
              "</div>"
            ],
            "text/plain": [
              "   bookID  ...        publisher\n",
              "0       1  ...  Scholastic Inc.\n",
              "1       2  ...  Scholastic Inc.\n",
              "2       4  ...       Scholastic\n",
              "3       5  ...  Scholastic Inc.\n",
              "4       8  ...       Scholastic\n",
              "\n",
              "[5 rows x 12 columns]"
            ]
          },
          "metadata": {
            "tags": []
          },
          "execution_count": 6
        }
      ]
    },
    {
      "cell_type": "markdown",
      "metadata": {
        "papermill": {
          "duration": 0.030662,
          "end_time": "2021-05-09T08:10:06.718847",
          "exception": false,
          "start_time": "2021-05-09T08:10:06.688185",
          "status": "completed"
        },
        "tags": [],
        "id": "rising-glance"
      },
      "source": [
        "**Data Summaries**"
      ],
      "id": "rising-glance"
    },
    {
      "cell_type": "code",
      "metadata": {
        "execution": {
          "iopub.execute_input": "2021-05-09T08:10:06.788151Z",
          "iopub.status.busy": "2021-05-09T08:10:06.786852Z",
          "iopub.status.idle": "2021-05-09T08:10:06.791600Z",
          "shell.execute_reply": "2021-05-09T08:10:06.790938Z"
        },
        "papermill": {
          "duration": 0.042299,
          "end_time": "2021-05-09T08:10:06.791746",
          "exception": false,
          "start_time": "2021-05-09T08:10:06.749447",
          "status": "completed"
        },
        "tags": [],
        "id": "aware-horizontal",
        "outputId": "94d9697d-ec78-4945-b2fa-571ce6c02da4"
      },
      "source": [
        "df_book.dtypes"
      ],
      "id": "aware-horizontal",
      "execution_count": null,
      "outputs": [
        {
          "output_type": "execute_result",
          "data": {
            "text/plain": [
              "bookID                  int64\n",
              "title                  object\n",
              "authors                object\n",
              "average_rating        float64\n",
              "isbn                   object\n",
              "isbn13                  int64\n",
              "language_code          object\n",
              "num_pages               int64\n",
              "ratings_count           int64\n",
              "text_reviews_count      int64\n",
              "publication_date       object\n",
              "publisher              object\n",
              "dtype: object"
            ]
          },
          "metadata": {
            "tags": []
          },
          "execution_count": 6
        }
      ]
    },
    {
      "cell_type": "markdown",
      "metadata": {
        "papermill": {
          "duration": 0.03598,
          "end_time": "2021-05-09T08:10:06.944783",
          "exception": false,
          "start_time": "2021-05-09T08:10:06.908803",
          "status": "completed"
        },
        "tags": [],
        "id": "spatial-valuation"
      },
      "source": [
        "**Data Preprocess**\n",
        "\n",
        "**Selecting Subset**"
      ],
      "id": "spatial-valuation"
    },
    {
      "cell_type": "code",
      "metadata": {
        "execution": {
          "iopub.execute_input": "2021-05-09T08:10:07.014525Z",
          "iopub.status.busy": "2021-05-09T08:10:07.013863Z",
          "iopub.status.idle": "2021-05-09T08:10:07.017466Z",
          "shell.execute_reply": "2021-05-09T08:10:07.016891Z"
        },
        "papermill": {
          "duration": 0.041567,
          "end_time": "2021-05-09T08:10:07.017615",
          "exception": false,
          "start_time": "2021-05-09T08:10:06.976048",
          "status": "completed"
        },
        "tags": [],
        "id": "sound-element"
      },
      "source": [
        "df_subset=df_book[df_book['authors'].isin(['J.K. Rowling','Stephen King'])]"
      ],
      "id": "sound-element",
      "execution_count": null,
      "outputs": []
    },
    {
      "cell_type": "code",
      "metadata": {
        "execution": {
          "iopub.execute_input": "2021-05-09T08:10:07.098052Z",
          "iopub.status.busy": "2021-05-09T08:10:07.097101Z",
          "iopub.status.idle": "2021-05-09T08:10:07.101941Z",
          "shell.execute_reply": "2021-05-09T08:10:07.101334Z"
        },
        "papermill": {
          "duration": 0.052762,
          "end_time": "2021-05-09T08:10:07.102076",
          "exception": false,
          "start_time": "2021-05-09T08:10:07.049314",
          "status": "completed"
        },
        "tags": [],
        "id": "baking-description",
        "outputId": "2e5b6e13-c657-4d12-8ed9-d4467c0acc8b"
      },
      "source": [
        "df_subset.head(5)"
      ],
      "id": "baking-description",
      "execution_count": null,
      "outputs": [
        {
          "output_type": "execute_result",
          "data": {
            "text/html": [
              "<div>\n",
              "<style scoped>\n",
              "    .dataframe tbody tr th:only-of-type {\n",
              "        vertical-align: middle;\n",
              "    }\n",
              "\n",
              "    .dataframe tbody tr th {\n",
              "        vertical-align: top;\n",
              "    }\n",
              "\n",
              "    .dataframe thead th {\n",
              "        text-align: right;\n",
              "    }\n",
              "</style>\n",
              "<table border=\"1\" class=\"dataframe\">\n",
              "  <thead>\n",
              "    <tr style=\"text-align: right;\">\n",
              "      <th></th>\n",
              "      <th>bookID</th>\n",
              "      <th>title</th>\n",
              "      <th>authors</th>\n",
              "      <th>average_rating</th>\n",
              "      <th>isbn</th>\n",
              "      <th>isbn13</th>\n",
              "      <th>language_code</th>\n",
              "      <th>num_pages</th>\n",
              "      <th>ratings_count</th>\n",
              "      <th>text_reviews_count</th>\n",
              "      <th>publication_date</th>\n",
              "      <th>publisher</th>\n",
              "    </tr>\n",
              "  </thead>\n",
              "  <tbody>\n",
              "    <tr>\n",
              "      <th>2</th>\n",
              "      <td>4</td>\n",
              "      <td>Harry Potter and the Chamber of Secrets (Harry...</td>\n",
              "      <td>J.K. Rowling</td>\n",
              "      <td>4.42</td>\n",
              "      <td>0439554896</td>\n",
              "      <td>9780439554893</td>\n",
              "      <td>eng</td>\n",
              "      <td>352</td>\n",
              "      <td>6333</td>\n",
              "      <td>244</td>\n",
              "      <td>11/1/2003</td>\n",
              "      <td>Scholastic</td>\n",
              "    </tr>\n",
              "    <tr>\n",
              "      <th>6</th>\n",
              "      <td>10</td>\n",
              "      <td>Harry Potter Collection (Harry Potter  #1-6)</td>\n",
              "      <td>J.K. Rowling</td>\n",
              "      <td>4.73</td>\n",
              "      <td>0439827604</td>\n",
              "      <td>9780439827607</td>\n",
              "      <td>eng</td>\n",
              "      <td>3342</td>\n",
              "      <td>28242</td>\n",
              "      <td>808</td>\n",
              "      <td>9/12/2005</td>\n",
              "      <td>Scholastic</td>\n",
              "    </tr>\n",
              "    <tr>\n",
              "      <th>613</th>\n",
              "      <td>2002</td>\n",
              "      <td>Harry Potter Schoolbooks Box Set: Two Classic ...</td>\n",
              "      <td>J.K. Rowling</td>\n",
              "      <td>4.40</td>\n",
              "      <td>043932162X</td>\n",
              "      <td>9780439321624</td>\n",
              "      <td>eng</td>\n",
              "      <td>240</td>\n",
              "      <td>11515</td>\n",
              "      <td>139</td>\n",
              "      <td>11/1/2001</td>\n",
              "      <td>Arthur A. Levine</td>\n",
              "    </tr>\n",
              "    <tr>\n",
              "      <th>615</th>\n",
              "      <td>2005</td>\n",
              "      <td>Harry Potter and the Half-Blood Prince (Harry ...</td>\n",
              "      <td>J.K. Rowling</td>\n",
              "      <td>4.57</td>\n",
              "      <td>0747584664</td>\n",
              "      <td>9780747584667</td>\n",
              "      <td>eng</td>\n",
              "      <td>768</td>\n",
              "      <td>1213</td>\n",
              "      <td>78</td>\n",
              "      <td>6/23/2006</td>\n",
              "      <td>Bloomsbury Publishing</td>\n",
              "    </tr>\n",
              "    <tr>\n",
              "      <th>988</th>\n",
              "      <td>3357</td>\n",
              "      <td>Harry Potter Y La Piedra Filosofal (Harry Pott...</td>\n",
              "      <td>J.K. Rowling</td>\n",
              "      <td>4.47</td>\n",
              "      <td>0613359607</td>\n",
              "      <td>9780613359603</td>\n",
              "      <td>spa</td>\n",
              "      <td>254</td>\n",
              "      <td>142</td>\n",
              "      <td>12</td>\n",
              "      <td>3/6/2001</td>\n",
              "      <td>Turtleback Books</td>\n",
              "    </tr>\n",
              "  </tbody>\n",
              "</table>\n",
              "</div>"
            ],
            "text/plain": [
              "     bookID                                              title       authors  \\\n",
              "2         4  Harry Potter and the Chamber of Secrets (Harry...  J.K. Rowling   \n",
              "6        10       Harry Potter Collection (Harry Potter  #1-6)  J.K. Rowling   \n",
              "613    2002  Harry Potter Schoolbooks Box Set: Two Classic ...  J.K. Rowling   \n",
              "615    2005  Harry Potter and the Half-Blood Prince (Harry ...  J.K. Rowling   \n",
              "988    3357  Harry Potter Y La Piedra Filosofal (Harry Pott...  J.K. Rowling   \n",
              "\n",
              "     average_rating        isbn         isbn13 language_code  num_pages  \\\n",
              "2              4.42  0439554896  9780439554893           eng        352   \n",
              "6              4.73  0439827604  9780439827607           eng       3342   \n",
              "613            4.40  043932162X  9780439321624           eng        240   \n",
              "615            4.57  0747584664  9780747584667           eng        768   \n",
              "988            4.47  0613359607  9780613359603           spa        254   \n",
              "\n",
              "     ratings_count  text_reviews_count publication_date              publisher  \n",
              "2             6333                 244        11/1/2003             Scholastic  \n",
              "6            28242                 808        9/12/2005             Scholastic  \n",
              "613          11515                 139        11/1/2001       Arthur A. Levine  \n",
              "615           1213                  78        6/23/2006  Bloomsbury Publishing  \n",
              "988            142                  12         3/6/2001       Turtleback Books  "
            ]
          },
          "metadata": {
            "tags": []
          },
          "execution_count": 8
        }
      ]
    },
    {
      "cell_type": "code",
      "metadata": {
        "execution": {
          "iopub.execute_input": "2021-05-09T08:10:07.184386Z",
          "iopub.status.busy": "2021-05-09T08:10:07.183645Z",
          "iopub.status.idle": "2021-05-09T08:10:07.187169Z",
          "shell.execute_reply": "2021-05-09T08:10:07.187775Z"
        },
        "papermill": {
          "duration": 0.053708,
          "end_time": "2021-05-09T08:10:07.187962",
          "exception": false,
          "start_time": "2021-05-09T08:10:07.134254",
          "status": "completed"
        },
        "tags": [],
        "id": "committed-tanzania",
        "outputId": "3d375eb5-41cb-4b88-d9fd-f2ebfd78bbf6"
      },
      "source": [
        "df_subset.groupby('authors').count()"
      ],
      "id": "committed-tanzania",
      "execution_count": null,
      "outputs": [
        {
          "output_type": "execute_result",
          "data": {
            "text/html": [
              "<div>\n",
              "<style scoped>\n",
              "    .dataframe tbody tr th:only-of-type {\n",
              "        vertical-align: middle;\n",
              "    }\n",
              "\n",
              "    .dataframe tbody tr th {\n",
              "        vertical-align: top;\n",
              "    }\n",
              "\n",
              "    .dataframe thead th {\n",
              "        text-align: right;\n",
              "    }\n",
              "</style>\n",
              "<table border=\"1\" class=\"dataframe\">\n",
              "  <thead>\n",
              "    <tr style=\"text-align: right;\">\n",
              "      <th></th>\n",
              "      <th>bookID</th>\n",
              "      <th>title</th>\n",
              "      <th>average_rating</th>\n",
              "      <th>isbn</th>\n",
              "      <th>isbn13</th>\n",
              "      <th>language_code</th>\n",
              "      <th>num_pages</th>\n",
              "      <th>ratings_count</th>\n",
              "      <th>text_reviews_count</th>\n",
              "      <th>publication_date</th>\n",
              "      <th>publisher</th>\n",
              "    </tr>\n",
              "    <tr>\n",
              "      <th>authors</th>\n",
              "      <th></th>\n",
              "      <th></th>\n",
              "      <th></th>\n",
              "      <th></th>\n",
              "      <th></th>\n",
              "      <th></th>\n",
              "      <th></th>\n",
              "      <th></th>\n",
              "      <th></th>\n",
              "      <th></th>\n",
              "      <th></th>\n",
              "    </tr>\n",
              "  </thead>\n",
              "  <tbody>\n",
              "    <tr>\n",
              "      <th>J.K. Rowling</th>\n",
              "      <td>11</td>\n",
              "      <td>11</td>\n",
              "      <td>11</td>\n",
              "      <td>11</td>\n",
              "      <td>11</td>\n",
              "      <td>11</td>\n",
              "      <td>11</td>\n",
              "      <td>11</td>\n",
              "      <td>11</td>\n",
              "      <td>11</td>\n",
              "      <td>11</td>\n",
              "    </tr>\n",
              "    <tr>\n",
              "      <th>Stephen King</th>\n",
              "      <td>40</td>\n",
              "      <td>40</td>\n",
              "      <td>40</td>\n",
              "      <td>40</td>\n",
              "      <td>40</td>\n",
              "      <td>40</td>\n",
              "      <td>40</td>\n",
              "      <td>40</td>\n",
              "      <td>40</td>\n",
              "      <td>40</td>\n",
              "      <td>40</td>\n",
              "    </tr>\n",
              "  </tbody>\n",
              "</table>\n",
              "</div>"
            ],
            "text/plain": [
              "              bookID  title  average_rating  isbn  isbn13  language_code  \\\n",
              "authors                                                                    \n",
              "J.K. Rowling      11     11              11    11      11             11   \n",
              "Stephen King      40     40              40    40      40             40   \n",
              "\n",
              "              num_pages  ratings_count  text_reviews_count  publication_date  \\\n",
              "authors                                                                        \n",
              "J.K. Rowling         11             11                  11                11   \n",
              "Stephen King         40             40                  40                40   \n",
              "\n",
              "              publisher  \n",
              "authors                  \n",
              "J.K. Rowling         11  \n",
              "Stephen King         40  "
            ]
          },
          "metadata": {
            "tags": []
          },
          "execution_count": 9
        }
      ]
    },
    {
      "cell_type": "code",
      "metadata": {
        "execution": {
          "iopub.execute_input": "2021-05-09T08:10:07.326998Z",
          "iopub.status.busy": "2021-05-09T08:10:07.326240Z",
          "iopub.status.idle": "2021-05-09T08:10:07.380557Z",
          "shell.execute_reply": "2021-05-09T08:10:07.379250Z"
        },
        "papermill": {
          "duration": 0.09223,
          "end_time": "2021-05-09T08:10:07.380749",
          "exception": false,
          "start_time": "2021-05-09T08:10:07.288519",
          "status": "completed"
        },
        "tags": [],
        "id": "balanced-pillow"
      },
      "source": [
        "df_subset=df_book[df_book['authors'].str.contains('.*J.K. Rowling.*', regex=True)==True]"
      ],
      "id": "balanced-pillow",
      "execution_count": null,
      "outputs": []
    },
    {
      "cell_type": "code",
      "metadata": {
        "execution": {
          "iopub.execute_input": "2021-05-09T08:10:07.467739Z",
          "iopub.status.busy": "2021-05-09T08:10:07.466779Z",
          "iopub.status.idle": "2021-05-09T08:10:07.471459Z",
          "shell.execute_reply": "2021-05-09T08:10:07.471965Z"
        },
        "papermill": {
          "duration": 0.056859,
          "end_time": "2021-05-09T08:10:07.472154",
          "exception": false,
          "start_time": "2021-05-09T08:10:07.415295",
          "status": "completed"
        },
        "tags": [],
        "id": "active-pricing",
        "outputId": "e58ae197-9358-4e38-f418-4abd7db3f128"
      },
      "source": [
        "df_subset.groupby('authors').count()"
      ],
      "id": "active-pricing",
      "execution_count": null,
      "outputs": [
        {
          "output_type": "execute_result",
          "data": {
            "text/html": [
              "<div>\n",
              "<style scoped>\n",
              "    .dataframe tbody tr th:only-of-type {\n",
              "        vertical-align: middle;\n",
              "    }\n",
              "\n",
              "    .dataframe tbody tr th {\n",
              "        vertical-align: top;\n",
              "    }\n",
              "\n",
              "    .dataframe thead th {\n",
              "        text-align: right;\n",
              "    }\n",
              "</style>\n",
              "<table border=\"1\" class=\"dataframe\">\n",
              "  <thead>\n",
              "    <tr style=\"text-align: right;\">\n",
              "      <th></th>\n",
              "      <th>bookID</th>\n",
              "      <th>title</th>\n",
              "      <th>average_rating</th>\n",
              "      <th>isbn</th>\n",
              "      <th>isbn13</th>\n",
              "      <th>language_code</th>\n",
              "      <th>num_pages</th>\n",
              "      <th>ratings_count</th>\n",
              "      <th>text_reviews_count</th>\n",
              "      <th>publication_date</th>\n",
              "      <th>publisher</th>\n",
              "    </tr>\n",
              "    <tr>\n",
              "      <th>authors</th>\n",
              "      <th></th>\n",
              "      <th></th>\n",
              "      <th></th>\n",
              "      <th></th>\n",
              "      <th></th>\n",
              "      <th></th>\n",
              "      <th></th>\n",
              "      <th></th>\n",
              "      <th></th>\n",
              "      <th></th>\n",
              "      <th></th>\n",
              "    </tr>\n",
              "  </thead>\n",
              "  <tbody>\n",
              "    <tr>\n",
              "      <th>J.K. Rowling</th>\n",
              "      <td>11</td>\n",
              "      <td>11</td>\n",
              "      <td>11</td>\n",
              "      <td>11</td>\n",
              "      <td>11</td>\n",
              "      <td>11</td>\n",
              "      <td>11</td>\n",
              "      <td>11</td>\n",
              "      <td>11</td>\n",
              "      <td>11</td>\n",
              "      <td>11</td>\n",
              "    </tr>\n",
              "    <tr>\n",
              "      <th>J.K. Rowling/Gemma Rovira Ortega</th>\n",
              "      <td>1</td>\n",
              "      <td>1</td>\n",
              "      <td>1</td>\n",
              "      <td>1</td>\n",
              "      <td>1</td>\n",
              "      <td>1</td>\n",
              "      <td>1</td>\n",
              "      <td>1</td>\n",
              "      <td>1</td>\n",
              "      <td>1</td>\n",
              "      <td>1</td>\n",
              "    </tr>\n",
              "    <tr>\n",
              "      <th>J.K. Rowling/J.K.羅琳/彭倩文</th>\n",
              "      <td>1</td>\n",
              "      <td>1</td>\n",
              "      <td>1</td>\n",
              "      <td>1</td>\n",
              "      <td>1</td>\n",
              "      <td>1</td>\n",
              "      <td>1</td>\n",
              "      <td>1</td>\n",
              "      <td>1</td>\n",
              "      <td>1</td>\n",
              "      <td>1</td>\n",
              "    </tr>\n",
              "    <tr>\n",
              "      <th>J.K. Rowling/J.K.羅琳/皇冠編譯組/張定綺/彭倩文/趙丕慧/林靜華</th>\n",
              "      <td>1</td>\n",
              "      <td>1</td>\n",
              "      <td>1</td>\n",
              "      <td>1</td>\n",
              "      <td>1</td>\n",
              "      <td>1</td>\n",
              "      <td>1</td>\n",
              "      <td>1</td>\n",
              "      <td>1</td>\n",
              "      <td>1</td>\n",
              "      <td>1</td>\n",
              "    </tr>\n",
              "    <tr>\n",
              "      <th>J.K. Rowling/Mary GrandPré</th>\n",
              "      <td>6</td>\n",
              "      <td>6</td>\n",
              "      <td>6</td>\n",
              "      <td>6</td>\n",
              "      <td>6</td>\n",
              "      <td>6</td>\n",
              "      <td>6</td>\n",
              "      <td>6</td>\n",
              "      <td>6</td>\n",
              "      <td>6</td>\n",
              "      <td>6</td>\n",
              "    </tr>\n",
              "    <tr>\n",
              "      <th>J.K. Rowling/Peter Needham</th>\n",
              "      <td>2</td>\n",
              "      <td>2</td>\n",
              "      <td>2</td>\n",
              "      <td>2</td>\n",
              "      <td>2</td>\n",
              "      <td>2</td>\n",
              "      <td>2</td>\n",
              "      <td>2</td>\n",
              "      <td>2</td>\n",
              "      <td>2</td>\n",
              "      <td>2</td>\n",
              "    </tr>\n",
              "    <tr>\n",
              "      <th>J.K. Rowling/Rufus Beck</th>\n",
              "      <td>1</td>\n",
              "      <td>1</td>\n",
              "      <td>1</td>\n",
              "      <td>1</td>\n",
              "      <td>1</td>\n",
              "      <td>1</td>\n",
              "      <td>1</td>\n",
              "      <td>1</td>\n",
              "      <td>1</td>\n",
              "      <td>1</td>\n",
              "      <td>1</td>\n",
              "    </tr>\n",
              "    <tr>\n",
              "      <th>J.K. Rowling/Sevin Okyay</th>\n",
              "      <td>1</td>\n",
              "      <td>1</td>\n",
              "      <td>1</td>\n",
              "      <td>1</td>\n",
              "      <td>1</td>\n",
              "      <td>1</td>\n",
              "      <td>1</td>\n",
              "      <td>1</td>\n",
              "      <td>1</td>\n",
              "      <td>1</td>\n",
              "      <td>1</td>\n",
              "    </tr>\n",
              "    <tr>\n",
              "      <th>Newt Scamander/J.K. Rowling</th>\n",
              "      <td>1</td>\n",
              "      <td>1</td>\n",
              "      <td>1</td>\n",
              "      <td>1</td>\n",
              "      <td>1</td>\n",
              "      <td>1</td>\n",
              "      <td>1</td>\n",
              "      <td>1</td>\n",
              "      <td>1</td>\n",
              "      <td>1</td>\n",
              "      <td>1</td>\n",
              "    </tr>\n",
              "  </tbody>\n",
              "</table>\n",
              "</div>"
            ],
            "text/plain": [
              "                                           bookID  title  average_rating  \\\n",
              "authors                                                                    \n",
              "J.K. Rowling                                   11     11              11   \n",
              "J.K. Rowling/Gemma Rovira Ortega                1      1               1   \n",
              "J.K. Rowling/J.K.羅琳/彭倩文                         1      1               1   \n",
              "J.K. Rowling/J.K.羅琳/皇冠編譯組/張定綺/彭倩文/趙丕慧/林靜華       1      1               1   \n",
              "J.K. Rowling/Mary GrandPré                      6      6               6   \n",
              "J.K. Rowling/Peter Needham                      2      2               2   \n",
              "J.K. Rowling/Rufus Beck                         1      1               1   \n",
              "J.K. Rowling/Sevin Okyay                        1      1               1   \n",
              "Newt Scamander/J.K. Rowling                     1      1               1   \n",
              "\n",
              "                                           isbn  isbn13  language_code  \\\n",
              "authors                                                                  \n",
              "J.K. Rowling                                 11      11             11   \n",
              "J.K. Rowling/Gemma Rovira Ortega              1       1              1   \n",
              "J.K. Rowling/J.K.羅琳/彭倩文                       1       1              1   \n",
              "J.K. Rowling/J.K.羅琳/皇冠編譯組/張定綺/彭倩文/趙丕慧/林靜華     1       1              1   \n",
              "J.K. Rowling/Mary GrandPré                    6       6              6   \n",
              "J.K. Rowling/Peter Needham                    2       2              2   \n",
              "J.K. Rowling/Rufus Beck                       1       1              1   \n",
              "J.K. Rowling/Sevin Okyay                      1       1              1   \n",
              "Newt Scamander/J.K. Rowling                   1       1              1   \n",
              "\n",
              "                                           num_pages  ratings_count  \\\n",
              "authors                                                               \n",
              "J.K. Rowling                                      11             11   \n",
              "J.K. Rowling/Gemma Rovira Ortega                   1              1   \n",
              "J.K. Rowling/J.K.羅琳/彭倩文                            1              1   \n",
              "J.K. Rowling/J.K.羅琳/皇冠編譯組/張定綺/彭倩文/趙丕慧/林靜華          1              1   \n",
              "J.K. Rowling/Mary GrandPré                         6              6   \n",
              "J.K. Rowling/Peter Needham                         2              2   \n",
              "J.K. Rowling/Rufus Beck                            1              1   \n",
              "J.K. Rowling/Sevin Okyay                           1              1   \n",
              "Newt Scamander/J.K. Rowling                        1              1   \n",
              "\n",
              "                                           text_reviews_count  \\\n",
              "authors                                                         \n",
              "J.K. Rowling                                               11   \n",
              "J.K. Rowling/Gemma Rovira Ortega                            1   \n",
              "J.K. Rowling/J.K.羅琳/彭倩文                                     1   \n",
              "J.K. Rowling/J.K.羅琳/皇冠編譯組/張定綺/彭倩文/趙丕慧/林靜華                   1   \n",
              "J.K. Rowling/Mary GrandPré                                  6   \n",
              "J.K. Rowling/Peter Needham                                  2   \n",
              "J.K. Rowling/Rufus Beck                                     1   \n",
              "J.K. Rowling/Sevin Okyay                                    1   \n",
              "Newt Scamander/J.K. Rowling                                 1   \n",
              "\n",
              "                                           publication_date  publisher  \n",
              "authors                                                                 \n",
              "J.K. Rowling                                             11         11  \n",
              "J.K. Rowling/Gemma Rovira Ortega                          1          1  \n",
              "J.K. Rowling/J.K.羅琳/彭倩文                                   1          1  \n",
              "J.K. Rowling/J.K.羅琳/皇冠編譯組/張定綺/彭倩文/趙丕慧/林靜華                 1          1  \n",
              "J.K. Rowling/Mary GrandPré                                6          6  \n",
              "J.K. Rowling/Peter Needham                                2          2  \n",
              "J.K. Rowling/Rufus Beck                                   1          1  \n",
              "J.K. Rowling/Sevin Okyay                                  1          1  \n",
              "Newt Scamander/J.K. Rowling                               1          1  "
            ]
          },
          "metadata": {
            "tags": []
          },
          "execution_count": 11
        }
      ]
    },
    {
      "cell_type": "markdown",
      "metadata": {
        "papermill": {
          "duration": 0.034464,
          "end_time": "2021-05-09T08:10:07.542112",
          "exception": false,
          "start_time": "2021-05-09T08:10:07.507648",
          "status": "completed"
        },
        "tags": [],
        "id": "ongoing-spread"
      },
      "source": [
        "**Transforming Values**\n",
        "\n",
        "\n",
        "1. Publication year\n",
        "2. Grouping by number of pages\n",
        "3. First Author"
      ],
      "id": "ongoing-spread"
    },
    {
      "cell_type": "code",
      "metadata": {
        "execution": {
          "iopub.execute_input": "2021-05-09T08:10:07.621361Z",
          "iopub.status.busy": "2021-05-09T08:10:07.614993Z",
          "iopub.status.idle": "2021-05-09T08:10:07.624409Z",
          "shell.execute_reply": "2021-05-09T08:10:07.624887Z"
        },
        "papermill": {
          "duration": 0.049314,
          "end_time": "2021-05-09T08:10:07.625071",
          "exception": false,
          "start_time": "2021-05-09T08:10:07.575757",
          "status": "completed"
        },
        "tags": [],
        "id": "right-warren"
      },
      "source": [
        "\n",
        "df_book['publication_year']=df_book['publication_date'].str[-4:]"
      ],
      "id": "right-warren",
      "execution_count": null,
      "outputs": []
    },
    {
      "cell_type": "code",
      "metadata": {
        "execution": {
          "iopub.execute_input": "2021-05-09T08:10:07.702243Z",
          "iopub.status.busy": "2021-05-09T08:10:07.701200Z",
          "iopub.status.idle": "2021-05-09T08:10:07.711598Z",
          "shell.execute_reply": "2021-05-09T08:10:07.710888Z"
        },
        "papermill": {
          "duration": 0.052711,
          "end_time": "2021-05-09T08:10:07.711742",
          "exception": false,
          "start_time": "2021-05-09T08:10:07.659031",
          "status": "completed"
        },
        "tags": [],
        "id": "silent-moment"
      },
      "source": [
        "\n",
        "df_book['num_pages_grp']= np.select(\n",
        "    [\n",
        "        df_book['num_pages'].between(0, 249, inclusive=True), \n",
        "        df_book['num_pages'].between(250, 499, inclusive=True),\n",
        "        df_book['num_pages'].between(500, 749, inclusive=True),\n",
        "        df_book['num_pages'].between(750, 999, inclusive=True),\n",
        "        df_book['num_pages']>=1000    \n",
        "    ], \n",
        "    [\n",
        "        '<250', \n",
        "        '250-499',\n",
        "        '500-749',\n",
        "        '750-999',\n",
        "        '>=1000'\n",
        "    ], \n",
        "    default='Unknown'\n",
        ")"
      ],
      "id": "silent-moment",
      "execution_count": null,
      "outputs": []
    },
    {
      "cell_type": "code",
      "metadata": {
        "execution": {
          "iopub.execute_input": "2021-05-09T08:10:07.796160Z",
          "iopub.status.busy": "2021-05-09T08:10:07.790940Z",
          "iopub.status.idle": "2021-05-09T08:10:07.849211Z",
          "shell.execute_reply": "2021-05-09T08:10:07.848536Z"
        },
        "papermill": {
          "duration": 0.102522,
          "end_time": "2021-05-09T08:10:07.849383",
          "exception": false,
          "start_time": "2021-05-09T08:10:07.746861",
          "status": "completed"
        },
        "tags": [],
        "id": "partial-responsibility"
      },
      "source": [
        "\n",
        "df_book['first_author']=df_book['authors'].str.extract(r'(.*?)\\/')\n",
        "df_book['first_author']=df_book['first_author'].fillna(df_book['authors'])"
      ],
      "id": "partial-responsibility",
      "execution_count": null,
      "outputs": []
    },
    {
      "cell_type": "code",
      "metadata": {
        "execution": {
          "iopub.execute_input": "2021-05-09T08:10:07.938763Z",
          "iopub.status.busy": "2021-05-09T08:10:07.938070Z",
          "iopub.status.idle": "2021-05-09T08:10:07.943679Z",
          "shell.execute_reply": "2021-05-09T08:10:07.942972Z"
        },
        "papermill": {
          "duration": 0.059924,
          "end_time": "2021-05-09T08:10:07.943833",
          "exception": false,
          "start_time": "2021-05-09T08:10:07.883909",
          "status": "completed"
        },
        "tags": [],
        "id": "split-valentine",
        "outputId": "e20b5a44-4c63-4434-beb5-a2506ea61758"
      },
      "source": [
        "df_book.head(5)"
      ],
      "id": "split-valentine",
      "execution_count": null,
      "outputs": [
        {
          "output_type": "execute_result",
          "data": {
            "text/html": [
              "<div>\n",
              "<style scoped>\n",
              "    .dataframe tbody tr th:only-of-type {\n",
              "        vertical-align: middle;\n",
              "    }\n",
              "\n",
              "    .dataframe tbody tr th {\n",
              "        vertical-align: top;\n",
              "    }\n",
              "\n",
              "    .dataframe thead th {\n",
              "        text-align: right;\n",
              "    }\n",
              "</style>\n",
              "<table border=\"1\" class=\"dataframe\">\n",
              "  <thead>\n",
              "    <tr style=\"text-align: right;\">\n",
              "      <th></th>\n",
              "      <th>bookID</th>\n",
              "      <th>title</th>\n",
              "      <th>authors</th>\n",
              "      <th>average_rating</th>\n",
              "      <th>isbn</th>\n",
              "      <th>isbn13</th>\n",
              "      <th>language_code</th>\n",
              "      <th>num_pages</th>\n",
              "      <th>ratings_count</th>\n",
              "      <th>text_reviews_count</th>\n",
              "      <th>publication_date</th>\n",
              "      <th>publisher</th>\n",
              "      <th>publication_year</th>\n",
              "      <th>num_pages_grp</th>\n",
              "      <th>first_author</th>\n",
              "    </tr>\n",
              "  </thead>\n",
              "  <tbody>\n",
              "    <tr>\n",
              "      <th>0</th>\n",
              "      <td>1</td>\n",
              "      <td>Harry Potter and the Half-Blood Prince (Harry ...</td>\n",
              "      <td>J.K. Rowling/Mary GrandPré</td>\n",
              "      <td>4.57</td>\n",
              "      <td>0439785960</td>\n",
              "      <td>9780439785969</td>\n",
              "      <td>eng</td>\n",
              "      <td>652</td>\n",
              "      <td>2095690</td>\n",
              "      <td>27591</td>\n",
              "      <td>9/16/2006</td>\n",
              "      <td>Scholastic Inc.</td>\n",
              "      <td>2006</td>\n",
              "      <td>500-749</td>\n",
              "      <td>J.K. Rowling</td>\n",
              "    </tr>\n",
              "    <tr>\n",
              "      <th>1</th>\n",
              "      <td>2</td>\n",
              "      <td>Harry Potter and the Order of the Phoenix (Har...</td>\n",
              "      <td>J.K. Rowling/Mary GrandPré</td>\n",
              "      <td>4.49</td>\n",
              "      <td>0439358078</td>\n",
              "      <td>9780439358071</td>\n",
              "      <td>eng</td>\n",
              "      <td>870</td>\n",
              "      <td>2153167</td>\n",
              "      <td>29221</td>\n",
              "      <td>9/1/2004</td>\n",
              "      <td>Scholastic Inc.</td>\n",
              "      <td>2004</td>\n",
              "      <td>750-999</td>\n",
              "      <td>J.K. Rowling</td>\n",
              "    </tr>\n",
              "    <tr>\n",
              "      <th>2</th>\n",
              "      <td>4</td>\n",
              "      <td>Harry Potter and the Chamber of Secrets (Harry...</td>\n",
              "      <td>J.K. Rowling</td>\n",
              "      <td>4.42</td>\n",
              "      <td>0439554896</td>\n",
              "      <td>9780439554893</td>\n",
              "      <td>eng</td>\n",
              "      <td>352</td>\n",
              "      <td>6333</td>\n",
              "      <td>244</td>\n",
              "      <td>11/1/2003</td>\n",
              "      <td>Scholastic</td>\n",
              "      <td>2003</td>\n",
              "      <td>250-499</td>\n",
              "      <td>J.K. Rowling</td>\n",
              "    </tr>\n",
              "    <tr>\n",
              "      <th>3</th>\n",
              "      <td>5</td>\n",
              "      <td>Harry Potter and the Prisoner of Azkaban (Harr...</td>\n",
              "      <td>J.K. Rowling/Mary GrandPré</td>\n",
              "      <td>4.56</td>\n",
              "      <td>043965548X</td>\n",
              "      <td>9780439655484</td>\n",
              "      <td>eng</td>\n",
              "      <td>435</td>\n",
              "      <td>2339585</td>\n",
              "      <td>36325</td>\n",
              "      <td>5/1/2004</td>\n",
              "      <td>Scholastic Inc.</td>\n",
              "      <td>2004</td>\n",
              "      <td>250-499</td>\n",
              "      <td>J.K. Rowling</td>\n",
              "    </tr>\n",
              "    <tr>\n",
              "      <th>4</th>\n",
              "      <td>8</td>\n",
              "      <td>Harry Potter Boxed Set  Books 1-5 (Harry Potte...</td>\n",
              "      <td>J.K. Rowling/Mary GrandPré</td>\n",
              "      <td>4.78</td>\n",
              "      <td>0439682584</td>\n",
              "      <td>9780439682589</td>\n",
              "      <td>eng</td>\n",
              "      <td>2690</td>\n",
              "      <td>41428</td>\n",
              "      <td>164</td>\n",
              "      <td>9/13/2004</td>\n",
              "      <td>Scholastic</td>\n",
              "      <td>2004</td>\n",
              "      <td>&gt;=1000</td>\n",
              "      <td>J.K. Rowling</td>\n",
              "    </tr>\n",
              "  </tbody>\n",
              "</table>\n",
              "</div>"
            ],
            "text/plain": [
              "   bookID                                              title  \\\n",
              "0       1  Harry Potter and the Half-Blood Prince (Harry ...   \n",
              "1       2  Harry Potter and the Order of the Phoenix (Har...   \n",
              "2       4  Harry Potter and the Chamber of Secrets (Harry...   \n",
              "3       5  Harry Potter and the Prisoner of Azkaban (Harr...   \n",
              "4       8  Harry Potter Boxed Set  Books 1-5 (Harry Potte...   \n",
              "\n",
              "                      authors  average_rating        isbn         isbn13  \\\n",
              "0  J.K. Rowling/Mary GrandPré            4.57  0439785960  9780439785969   \n",
              "1  J.K. Rowling/Mary GrandPré            4.49  0439358078  9780439358071   \n",
              "2                J.K. Rowling            4.42  0439554896  9780439554893   \n",
              "3  J.K. Rowling/Mary GrandPré            4.56  043965548X  9780439655484   \n",
              "4  J.K. Rowling/Mary GrandPré            4.78  0439682584  9780439682589   \n",
              "\n",
              "  language_code  num_pages  ratings_count  text_reviews_count  \\\n",
              "0           eng        652        2095690               27591   \n",
              "1           eng        870        2153167               29221   \n",
              "2           eng        352           6333                 244   \n",
              "3           eng        435        2339585               36325   \n",
              "4           eng       2690          41428                 164   \n",
              "\n",
              "  publication_date        publisher publication_year num_pages_grp  \\\n",
              "0        9/16/2006  Scholastic Inc.             2006       500-749   \n",
              "1         9/1/2004  Scholastic Inc.             2004       750-999   \n",
              "2        11/1/2003       Scholastic             2003       250-499   \n",
              "3         5/1/2004  Scholastic Inc.             2004       250-499   \n",
              "4        9/13/2004       Scholastic             2004        >=1000   \n",
              "\n",
              "   first_author  \n",
              "0  J.K. Rowling  \n",
              "1  J.K. Rowling  \n",
              "2  J.K. Rowling  \n",
              "3  J.K. Rowling  \n",
              "4  J.K. Rowling  "
            ]
          },
          "metadata": {
            "tags": []
          },
          "execution_count": 15
        }
      ]
    },
    {
      "cell_type": "markdown",
      "metadata": {
        "papermill": {
          "duration": 0.035852,
          "end_time": "2021-05-09T08:10:08.016212",
          "exception": false,
          "start_time": "2021-05-09T08:10:07.980360",
          "status": "completed"
        },
        "tags": [],
        "id": "gorgeous-bowling"
      },
      "source": [
        "Type Markdown and LaTeX:  𝛼2"
      ],
      "id": "gorgeous-bowling"
    },
    {
      "cell_type": "code",
      "metadata": {
        "execution": {
          "iopub.execute_input": "2021-05-09T08:10:08.095878Z",
          "iopub.status.busy": "2021-05-09T08:10:08.094723Z",
          "iopub.status.idle": "2021-05-09T08:10:08.123613Z",
          "shell.execute_reply": "2021-05-09T08:10:08.124176Z"
        },
        "papermill": {
          "duration": 0.070932,
          "end_time": "2021-05-09T08:10:08.124375",
          "exception": false,
          "start_time": "2021-05-09T08:10:08.053443",
          "status": "completed"
        },
        "tags": [],
        "id": "attended-floating",
        "outputId": "63045304-888e-4b66-cd65-8a712a6f6fb5"
      },
      "source": [
        "df_book.groupby('num_pages_grp').count()"
      ],
      "id": "attended-floating",
      "execution_count": null,
      "outputs": [
        {
          "output_type": "execute_result",
          "data": {
            "text/html": [
              "<div>\n",
              "<style scoped>\n",
              "    .dataframe tbody tr th:only-of-type {\n",
              "        vertical-align: middle;\n",
              "    }\n",
              "\n",
              "    .dataframe tbody tr th {\n",
              "        vertical-align: top;\n",
              "    }\n",
              "\n",
              "    .dataframe thead th {\n",
              "        text-align: right;\n",
              "    }\n",
              "</style>\n",
              "<table border=\"1\" class=\"dataframe\">\n",
              "  <thead>\n",
              "    <tr style=\"text-align: right;\">\n",
              "      <th></th>\n",
              "      <th>bookID</th>\n",
              "      <th>title</th>\n",
              "      <th>authors</th>\n",
              "      <th>average_rating</th>\n",
              "      <th>isbn</th>\n",
              "      <th>isbn13</th>\n",
              "      <th>language_code</th>\n",
              "      <th>num_pages</th>\n",
              "      <th>ratings_count</th>\n",
              "      <th>text_reviews_count</th>\n",
              "      <th>publication_date</th>\n",
              "      <th>publisher</th>\n",
              "      <th>publication_year</th>\n",
              "      <th>first_author</th>\n",
              "    </tr>\n",
              "    <tr>\n",
              "      <th>num_pages_grp</th>\n",
              "      <th></th>\n",
              "      <th></th>\n",
              "      <th></th>\n",
              "      <th></th>\n",
              "      <th></th>\n",
              "      <th></th>\n",
              "      <th></th>\n",
              "      <th></th>\n",
              "      <th></th>\n",
              "      <th></th>\n",
              "      <th></th>\n",
              "      <th></th>\n",
              "      <th></th>\n",
              "      <th></th>\n",
              "    </tr>\n",
              "  </thead>\n",
              "  <tbody>\n",
              "    <tr>\n",
              "      <th>250-499</th>\n",
              "      <td>5106</td>\n",
              "      <td>5106</td>\n",
              "      <td>5106</td>\n",
              "      <td>5106</td>\n",
              "      <td>5106</td>\n",
              "      <td>5106</td>\n",
              "      <td>5106</td>\n",
              "      <td>5106</td>\n",
              "      <td>5106</td>\n",
              "      <td>5106</td>\n",
              "      <td>5106</td>\n",
              "      <td>5106</td>\n",
              "      <td>5106</td>\n",
              "      <td>5106</td>\n",
              "    </tr>\n",
              "    <tr>\n",
              "      <th>500-749</th>\n",
              "      <td>1185</td>\n",
              "      <td>1185</td>\n",
              "      <td>1185</td>\n",
              "      <td>1185</td>\n",
              "      <td>1185</td>\n",
              "      <td>1185</td>\n",
              "      <td>1185</td>\n",
              "      <td>1185</td>\n",
              "      <td>1185</td>\n",
              "      <td>1185</td>\n",
              "      <td>1185</td>\n",
              "      <td>1185</td>\n",
              "      <td>1185</td>\n",
              "      <td>1185</td>\n",
              "    </tr>\n",
              "    <tr>\n",
              "      <th>750-999</th>\n",
              "      <td>343</td>\n",
              "      <td>343</td>\n",
              "      <td>343</td>\n",
              "      <td>343</td>\n",
              "      <td>343</td>\n",
              "      <td>343</td>\n",
              "      <td>343</td>\n",
              "      <td>343</td>\n",
              "      <td>343</td>\n",
              "      <td>343</td>\n",
              "      <td>343</td>\n",
              "      <td>343</td>\n",
              "      <td>343</td>\n",
              "      <td>343</td>\n",
              "    </tr>\n",
              "    <tr>\n",
              "      <th>&lt;250</th>\n",
              "      <td>4272</td>\n",
              "      <td>4272</td>\n",
              "      <td>4272</td>\n",
              "      <td>4272</td>\n",
              "      <td>4272</td>\n",
              "      <td>4272</td>\n",
              "      <td>4272</td>\n",
              "      <td>4272</td>\n",
              "      <td>4272</td>\n",
              "      <td>4272</td>\n",
              "      <td>4272</td>\n",
              "      <td>4272</td>\n",
              "      <td>4272</td>\n",
              "      <td>4272</td>\n",
              "    </tr>\n",
              "    <tr>\n",
              "      <th>&gt;=1000</th>\n",
              "      <td>217</td>\n",
              "      <td>217</td>\n",
              "      <td>217</td>\n",
              "      <td>217</td>\n",
              "      <td>217</td>\n",
              "      <td>217</td>\n",
              "      <td>217</td>\n",
              "      <td>217</td>\n",
              "      <td>217</td>\n",
              "      <td>217</td>\n",
              "      <td>217</td>\n",
              "      <td>217</td>\n",
              "      <td>217</td>\n",
              "      <td>217</td>\n",
              "    </tr>\n",
              "  </tbody>\n",
              "</table>\n",
              "</div>"
            ],
            "text/plain": [
              "               bookID  title  authors  average_rating  isbn  isbn13  \\\n",
              "num_pages_grp                                                         \n",
              "250-499          5106   5106     5106            5106  5106    5106   \n",
              "500-749          1185   1185     1185            1185  1185    1185   \n",
              "750-999           343    343      343             343   343     343   \n",
              "<250             4272   4272     4272            4272  4272    4272   \n",
              ">=1000            217    217      217             217   217     217   \n",
              "\n",
              "               language_code  num_pages  ratings_count  text_reviews_count  \\\n",
              "num_pages_grp                                                                \n",
              "250-499                 5106       5106           5106                5106   \n",
              "500-749                 1185       1185           1185                1185   \n",
              "750-999                  343        343            343                 343   \n",
              "<250                    4272       4272           4272                4272   \n",
              ">=1000                   217        217            217                 217   \n",
              "\n",
              "               publication_date  publisher  publication_year  first_author  \n",
              "num_pages_grp                                                               \n",
              "250-499                    5106       5106              5106          5106  \n",
              "500-749                    1185       1185              1185          1185  \n",
              "750-999                     343        343               343           343  \n",
              "<250                       4272       4272              4272          4272  \n",
              ">=1000                      217        217               217           217  "
            ]
          },
          "metadata": {
            "tags": []
          },
          "execution_count": 16
        }
      ]
    },
    {
      "cell_type": "markdown",
      "metadata": {
        "papermill": {
          "duration": 0.035929,
          "end_time": "2021-05-09T08:10:08.196849",
          "exception": false,
          "start_time": "2021-05-09T08:10:08.160920",
          "status": "completed"
        },
        "tags": [],
        "id": "roman-lingerie"
      },
      "source": [
        "**Aggregation & Sorting**\n"
      ],
      "id": "roman-lingerie"
    },
    {
      "cell_type": "code",
      "metadata": {
        "execution": {
          "iopub.execute_input": "2021-05-09T08:10:08.272427Z",
          "iopub.status.busy": "2021-05-09T08:10:08.271761Z",
          "iopub.status.idle": "2021-05-09T08:10:08.295050Z",
          "shell.execute_reply": "2021-05-09T08:10:08.295612Z"
        },
        "papermill": {
          "duration": 0.06326,
          "end_time": "2021-05-09T08:10:08.295869",
          "exception": false,
          "start_time": "2021-05-09T08:10:08.232609",
          "status": "completed"
        },
        "tags": [],
        "id": "adjacent-insured"
      },
      "source": [
        "# Group by column 'authors'\n",
        "# Kita dapat menerapkan fungsi agregasi yang berbeda untuk setiap kolom\n",
        "most_books = df_book.groupby('authors').agg({'title':'count','average_rating':np.mean,'text_reviews_count':'sum'})\n",
        "# Menyortir di Pandas juga mudah\n",
        "# Dapatkan 10 data teratas\n",
        "most_books = most_books.sort_values('title', ascending=False).head(10)"
      ],
      "id": "adjacent-insured",
      "execution_count": null,
      "outputs": []
    },
    {
      "cell_type": "code",
      "metadata": {
        "execution": {
          "iopub.execute_input": "2021-05-09T08:10:08.371368Z",
          "iopub.status.busy": "2021-05-09T08:10:08.370675Z",
          "iopub.status.idle": "2021-05-09T08:10:08.380960Z",
          "shell.execute_reply": "2021-05-09T08:10:08.381576Z"
        },
        "papermill": {
          "duration": 0.049873,
          "end_time": "2021-05-09T08:10:08.381761",
          "exception": false,
          "start_time": "2021-05-09T08:10:08.331888",
          "status": "completed"
        },
        "tags": [],
        "id": "vertical-bookmark",
        "outputId": "c88eef7a-35ad-44fc-d764-4a578311ae19"
      },
      "source": [
        "most_books"
      ],
      "id": "vertical-bookmark",
      "execution_count": null,
      "outputs": [
        {
          "output_type": "execute_result",
          "data": {
            "text/html": [
              "<div>\n",
              "<style scoped>\n",
              "    .dataframe tbody tr th:only-of-type {\n",
              "        vertical-align: middle;\n",
              "    }\n",
              "\n",
              "    .dataframe tbody tr th {\n",
              "        vertical-align: top;\n",
              "    }\n",
              "\n",
              "    .dataframe thead th {\n",
              "        text-align: right;\n",
              "    }\n",
              "</style>\n",
              "<table border=\"1\" class=\"dataframe\">\n",
              "  <thead>\n",
              "    <tr style=\"text-align: right;\">\n",
              "      <th></th>\n",
              "      <th>title</th>\n",
              "      <th>average_rating</th>\n",
              "      <th>text_reviews_count</th>\n",
              "    </tr>\n",
              "    <tr>\n",
              "      <th>authors</th>\n",
              "      <th></th>\n",
              "      <th></th>\n",
              "      <th></th>\n",
              "    </tr>\n",
              "  </thead>\n",
              "  <tbody>\n",
              "    <tr>\n",
              "      <th>Stephen King</th>\n",
              "      <td>40</td>\n",
              "      <td>3.973500</td>\n",
              "      <td>55897</td>\n",
              "    </tr>\n",
              "    <tr>\n",
              "      <th>P.G. Wodehouse</th>\n",
              "      <td>40</td>\n",
              "      <td>4.147250</td>\n",
              "      <td>5535</td>\n",
              "    </tr>\n",
              "    <tr>\n",
              "      <th>Rumiko Takahashi</th>\n",
              "      <td>39</td>\n",
              "      <td>4.186667</td>\n",
              "      <td>588</td>\n",
              "    </tr>\n",
              "    <tr>\n",
              "      <th>Orson Scott Card</th>\n",
              "      <td>35</td>\n",
              "      <td>3.779143</td>\n",
              "      <td>24843</td>\n",
              "    </tr>\n",
              "    <tr>\n",
              "      <th>Agatha Christie</th>\n",
              "      <td>33</td>\n",
              "      <td>3.989091</td>\n",
              "      <td>53424</td>\n",
              "    </tr>\n",
              "    <tr>\n",
              "      <th>Piers Anthony</th>\n",
              "      <td>30</td>\n",
              "      <td>3.716667</td>\n",
              "      <td>1054</td>\n",
              "    </tr>\n",
              "    <tr>\n",
              "      <th>Mercedes Lackey</th>\n",
              "      <td>29</td>\n",
              "      <td>4.039310</td>\n",
              "      <td>6655</td>\n",
              "    </tr>\n",
              "    <tr>\n",
              "      <th>Sandra Brown</th>\n",
              "      <td>29</td>\n",
              "      <td>3.742069</td>\n",
              "      <td>4826</td>\n",
              "    </tr>\n",
              "    <tr>\n",
              "      <th>Dick Francis</th>\n",
              "      <td>28</td>\n",
              "      <td>3.962143</td>\n",
              "      <td>2865</td>\n",
              "    </tr>\n",
              "    <tr>\n",
              "      <th>Laurell K. Hamilton</th>\n",
              "      <td>23</td>\n",
              "      <td>3.988696</td>\n",
              "      <td>17692</td>\n",
              "    </tr>\n",
              "  </tbody>\n",
              "</table>\n",
              "</div>"
            ],
            "text/plain": [
              "                     title  average_rating  text_reviews_count\n",
              "authors                                                       \n",
              "Stephen King            40        3.973500               55897\n",
              "P.G. Wodehouse          40        4.147250                5535\n",
              "Rumiko Takahashi        39        4.186667                 588\n",
              "Orson Scott Card        35        3.779143               24843\n",
              "Agatha Christie         33        3.989091               53424\n",
              "Piers Anthony           30        3.716667                1054\n",
              "Mercedes Lackey         29        4.039310                6655\n",
              "Sandra Brown            29        3.742069                4826\n",
              "Dick Francis            28        3.962143                2865\n",
              "Laurell K. Hamilton     23        3.988696               17692"
            ]
          },
          "metadata": {
            "tags": []
          },
          "execution_count": 18
        }
      ]
    },
    {
      "cell_type": "markdown",
      "metadata": {
        "papermill": {
          "duration": 0.037929,
          "end_time": "2021-05-09T08:10:08.456227",
          "exception": false,
          "start_time": "2021-05-09T08:10:08.418298",
          "status": "completed"
        },
        "tags": [],
        "id": "dominant-milton"
      },
      "source": [
        "\n",
        "\n",
        "\n",
        "**Data Visualization**\n",
        "\n",
        "1D Plotting\n",
        "\n",
        "\n",
        "Histogram"
      ],
      "id": "dominant-milton"
    },
    {
      "cell_type": "code",
      "metadata": {
        "execution": {
          "iopub.execute_input": "2021-05-09T08:10:08.533298Z",
          "iopub.status.busy": "2021-05-09T08:10:08.532652Z",
          "iopub.status.idle": "2021-05-09T08:10:08.968878Z",
          "shell.execute_reply": "2021-05-09T08:10:08.969510Z"
        },
        "papermill": {
          "duration": 0.476219,
          "end_time": "2021-05-09T08:10:08.969702",
          "exception": false,
          "start_time": "2021-05-09T08:10:08.493483",
          "status": "completed"
        },
        "tags": [],
        "id": "requested-relation",
        "outputId": "7de07b5a-456e-4351-867c-aeecd3d95e89"
      },
      "source": [
        "plt.figure(figsize=(20,20))\n",
        "g =sns.displot(df_book, x=\"language_code\")\n",
        "g.fig.set_figwidth(20)"
      ],
      "id": "requested-relation",
      "execution_count": null,
      "outputs": [
        {
          "output_type": "display_data",
          "data": {
            "text/plain": [
              "<Figure size 1440x1440 with 0 Axes>"
            ]
          },
          "metadata": {
            "tags": []
          }
        },
        {
          "output_type": "display_data",
          "data": {
            "image/png": "[encoded data removed]",
            "text/plain": [
              "<Figure size 1440x360 with 1 Axes>"
            ]
          },
          "metadata": {
            "tags": [],
            "needs_background": "light"
          }
        }
      ]
    },
    {
      "cell_type": "markdown",
      "metadata": {
        "papermill": {
          "duration": 0.038996,
          "end_time": "2021-05-09T08:10:09.048100",
          "exception": false,
          "start_time": "2021-05-09T08:10:09.009104",
          "status": "completed"
        },
        "tags": [],
        "id": "chief-comfort"
      },
      "source": [
        "KDE"
      ],
      "id": "chief-comfort"
    },
    {
      "cell_type": "code",
      "metadata": {
        "execution": {
          "iopub.execute_input": "2021-05-09T08:10:09.128473Z",
          "iopub.status.busy": "2021-05-09T08:10:09.127741Z",
          "iopub.status.idle": "2021-05-09T08:10:09.491333Z",
          "shell.execute_reply": "2021-05-09T08:10:09.491909Z"
        },
        "papermill": {
          "duration": 0.405164,
          "end_time": "2021-05-09T08:10:09.492110",
          "exception": false,
          "start_time": "2021-05-09T08:10:09.086946",
          "status": "completed"
        },
        "tags": [],
        "id": "working-dayton",
        "outputId": "69e725c6-3418-43d4-8f6e-3a0f00e5300b"
      },
      "source": [
        "g=sns.displot(df_book, x=\"average_rating\", kind=\"kde\")\n",
        "g.fig.set_figwidth(20)"
      ],
      "id": "working-dayton",
      "execution_count": null,
      "outputs": [
        {
          "output_type": "display_data",
          "data": {
            "image/png": "[encoded data removed]",
            "text/plain": [
              "<Figure size 1440x360 with 1 Axes>"
            ]
          },
          "metadata": {
            "tags": [],
            "needs_background": "light"
          }
        }
      ]
    },
    {
      "cell_type": "markdown",
      "metadata": {
        "papermill": {
          "duration": 0.039729,
          "end_time": "2021-05-09T08:10:09.571213",
          "exception": false,
          "start_time": "2021-05-09T08:10:09.531484",
          "status": "completed"
        },
        "tags": [],
        "id": "manufactured-regulation"
      },
      "source": [
        "Barplot"
      ],
      "id": "manufactured-regulation"
    },
    {
      "cell_type": "code",
      "metadata": {
        "execution": {
          "iopub.execute_input": "2021-05-09T08:10:09.658340Z",
          "iopub.status.busy": "2021-05-09T08:10:09.657545Z",
          "iopub.status.idle": "2021-05-09T08:10:09.944122Z",
          "shell.execute_reply": "2021-05-09T08:10:09.943396Z"
        },
        "papermill": {
          "duration": 0.334184,
          "end_time": "2021-05-09T08:10:09.944280",
          "exception": false,
          "start_time": "2021-05-09T08:10:09.610096",
          "status": "completed"
        },
        "tags": [],
        "id": "simple-ecuador"
      },
      "source": [
        "#sns.set_context('talk')\n",
        "most_books = df_book.groupby('authors')['title'].count().reset_index().sort_values('title', ascending=False).head(10).set_index('authors');\n",
        "plt.figure(figsize=(15,10));\n",
        "ax = sns.barplot(most_books['title'], most_books.index, palette='icefire_r');\n",
        "ax.set_title(\"Top 10 authors with most books\");\n",
        "ax.set_xlabel(\"Total number of books\");\n",
        "for i in ax.patches:\n",
        "    ax.text(i.get_width()+.3, i.get_y()+0.5, str(round(i.get_width())), fontsize = 10, color = 'k');"
      ],
      "id": "simple-ecuador",
      "execution_count": null,
      "outputs": []
    },
    {
      "cell_type": "markdown",
      "metadata": {
        "papermill": {
          "duration": 0.040802,
          "end_time": "2021-05-09T08:10:10.025940",
          "exception": false,
          "start_time": "2021-05-09T08:10:09.985138",
          "status": "completed"
        },
        "tags": [],
        "id": "unavailable-lincoln"
      },
      "source": [
        "**2D Plotting**\n",
        "\n",
        "Stack bar"
      ],
      "id": "unavailable-lincoln"
    },
    {
      "cell_type": "code",
      "metadata": {
        "execution": {
          "iopub.execute_input": "2021-05-09T08:10:10.117203Z",
          "iopub.status.busy": "2021-05-09T08:10:10.116518Z",
          "iopub.status.idle": "2021-05-09T08:10:10.604927Z",
          "shell.execute_reply": "2021-05-09T08:10:10.604402Z"
        },
        "papermill": {
          "duration": 0.538661,
          "end_time": "2021-05-09T08:10:10.605072",
          "exception": false,
          "start_time": "2021-05-09T08:10:10.066411",
          "status": "completed"
        },
        "tags": [],
        "id": "absent-buffalo",
        "outputId": "17c97a68-5c6b-4423-b052-f3bb68baaa37"
      },
      "source": [
        "g=sns.displot(df_book[df_book['publication_year'].between('2003','2007')], x=\"publication_year\", hue=\"num_pages_grp\", multiple=\"stack\")\n",
        "g.fig.set_figwidth(15)\n",
        "g.fig.set_figheight(8)"
      ],
      "id": "absent-buffalo",
      "execution_count": null,
      "outputs": [
        {
          "output_type": "display_data",
          "data": {
            "image/png": "[encoded data removed]",
            "text/plain": [
              "<Figure size 1080x576 with 1 Axes>"
            ]
          },
          "metadata": {
            "tags": [],
            "needs_background": "light"
          }
        }
      ]
    },
    {
      "cell_type": "markdown",
      "metadata": {
        "papermill": {
          "duration": 0.041108,
          "end_time": "2021-05-09T08:10:10.687538",
          "exception": false,
          "start_time": "2021-05-09T08:10:10.646430",
          "status": "completed"
        },
        "tags": [],
        "id": "appreciated-documentary"
      },
      "source": [
        "Scatter Plot"
      ],
      "id": "appreciated-documentary"
    },
    {
      "cell_type": "code",
      "metadata": {
        "execution": {
          "iopub.execute_input": "2021-05-09T08:10:10.796013Z",
          "iopub.status.busy": "2021-05-09T08:10:10.790586Z",
          "iopub.status.idle": "2021-05-09T08:10:11.096622Z",
          "shell.execute_reply": "2021-05-09T08:10:11.095938Z"
        },
        "papermill": {
          "duration": 0.367649,
          "end_time": "2021-05-09T08:10:11.096773",
          "exception": false,
          "start_time": "2021-05-09T08:10:10.729124",
          "status": "completed"
        },
        "tags": [],
        "id": "opened-operation",
        "outputId": "08c9cfbc-eca7-49d6-e9ce-eba84a6ad66a"
      },
      "source": [
        "df_subset = df_book[df_book['authors'].str.contains('.*Agatha Christie.*', regex=True)==True]\n",
        "df_subset = df_subset[df_subset['publication_year'].between('1990','2010')]\n",
        "df_subset['publication_year'] = df_subset['publication_year'].astype(int)\n",
        "fig, ax = plt.subplots(figsize=(15,10))\n",
        "sns.regplot(ax=ax,data=df_subset, x=\"publication_year\", y=\"average_rating\")\n",
        "ax.set_xticks(list(range(1990,2011,4)));"
      ],
      "id": "opened-operation",
      "execution_count": null,
      "outputs": [
        {
          "output_type": "display_data",
          "data": {
            "image/png": "[encoded data removed]",
            "text/plain": [
              "<Figure size 1080x720 with 1 Axes>"
            ]
          },
          "metadata": {
            "tags": [],
            "needs_background": "light"
          }
        }
      ]
    },
    {
      "cell_type": "markdown",
      "metadata": {
        "papermill": {
          "duration": 0.044472,
          "end_time": "2021-05-09T08:10:11.185487",
          "exception": false,
          "start_time": "2021-05-09T08:10:11.141015",
          "status": "completed"
        },
        "tags": [],
        "id": "sweet-rendering"
      },
      "source": [
        "\n",
        "\n",
        "Heatmap"
      ],
      "id": "sweet-rendering"
    },
    {
      "cell_type": "code",
      "metadata": {
        "execution": {
          "iopub.execute_input": "2021-05-09T08:10:11.280407Z",
          "iopub.status.busy": "2021-05-09T08:10:11.279719Z",
          "iopub.status.idle": "2021-05-09T08:10:11.313984Z",
          "shell.execute_reply": "2021-05-09T08:10:11.313216Z"
        },
        "papermill": {
          "duration": 0.085612,
          "end_time": "2021-05-09T08:10:11.314137",
          "exception": false,
          "start_time": "2021-05-09T08:10:11.228525",
          "status": "completed"
        },
        "tags": [],
        "id": "level-journalist",
        "outputId": "d2ad1abc-abe9-499a-826f-bc38b744fd1b"
      },
      "source": [
        "most_books_publisher = df_book.groupby('publisher')['title'].count().reset_index().sort_values('title', ascending=False).head(10);\n",
        "df_subset = df_book[df_book['publisher'].isin(most_books_publisher.reset_index()['publisher'].tolist())]\n",
        "df_subset = df_subset[df_subset['publication_year'].isin(['2003','2004','2005','2006','2007'])]\n",
        "df_subset = df_subset.groupby([\"publisher\",\"publication_year\"]).agg({\"average_rating\":np.mean}).reset_index()\n",
        "df_subset = df_subset.pivot(\"publisher\", \"publication_year\", \"average_rating\")\n",
        "df_subset"
      ],
      "id": "level-journalist",
      "execution_count": null,
      "outputs": [
        {
          "output_type": "execute_result",
          "data": {
            "text/html": [
              "<div>\n",
              "<style scoped>\n",
              "    .dataframe tbody tr th:only-of-type {\n",
              "        vertical-align: middle;\n",
              "    }\n",
              "\n",
              "    .dataframe tbody tr th {\n",
              "        vertical-align: top;\n",
              "    }\n",
              "\n",
              "    .dataframe thead th {\n",
              "        text-align: right;\n",
              "    }\n",
              "</style>\n",
              "<table border=\"1\" class=\"dataframe\">\n",
              "  <thead>\n",
              "    <tr style=\"text-align: right;\">\n",
              "      <th>publication_year</th>\n",
              "      <th>2003</th>\n",
              "      <th>2004</th>\n",
              "      <th>2005</th>\n",
              "      <th>2006</th>\n",
              "      <th>2007</th>\n",
              "    </tr>\n",
              "    <tr>\n",
              "      <th>publisher</th>\n",
              "      <th></th>\n",
              "      <th></th>\n",
              "      <th></th>\n",
              "      <th></th>\n",
              "      <th></th>\n",
              "    </tr>\n",
              "  </thead>\n",
              "  <tbody>\n",
              "    <tr>\n",
              "      <th>Ballantine Books</th>\n",
              "      <td>4.007143</td>\n",
              "      <td>3.867500</td>\n",
              "      <td>3.938333</td>\n",
              "      <td>3.878519</td>\n",
              "      <td>3.746667</td>\n",
              "    </tr>\n",
              "    <tr>\n",
              "      <th>Bantam</th>\n",
              "      <td>3.788333</td>\n",
              "      <td>3.877143</td>\n",
              "      <td>3.998571</td>\n",
              "      <td>3.935000</td>\n",
              "      <td>3.855000</td>\n",
              "    </tr>\n",
              "    <tr>\n",
              "      <th>Harper Perennial</th>\n",
              "      <td>3.678571</td>\n",
              "      <td>3.976667</td>\n",
              "      <td>3.945556</td>\n",
              "      <td>3.930833</td>\n",
              "      <td>3.754000</td>\n",
              "    </tr>\n",
              "    <tr>\n",
              "      <th>HarperCollins</th>\n",
              "      <td>4.285000</td>\n",
              "      <td>4.063333</td>\n",
              "      <td>3.947778</td>\n",
              "      <td>4.086000</td>\n",
              "      <td>4.103636</td>\n",
              "    </tr>\n",
              "    <tr>\n",
              "      <th>Mariner Books</th>\n",
              "      <td>3.869000</td>\n",
              "      <td>3.838571</td>\n",
              "      <td>3.847692</td>\n",
              "      <td>3.835000</td>\n",
              "      <td>3.638000</td>\n",
              "    </tr>\n",
              "    <tr>\n",
              "      <th>Penguin Books</th>\n",
              "      <td>3.917143</td>\n",
              "      <td>3.941818</td>\n",
              "      <td>3.917143</td>\n",
              "      <td>3.952581</td>\n",
              "      <td>3.862500</td>\n",
              "    </tr>\n",
              "    <tr>\n",
              "      <th>Penguin Classics</th>\n",
              "      <td>3.931250</td>\n",
              "      <td>3.957333</td>\n",
              "      <td>3.948462</td>\n",
              "      <td>3.982609</td>\n",
              "      <td>4.023333</td>\n",
              "    </tr>\n",
              "    <tr>\n",
              "      <th>Pocket Books</th>\n",
              "      <td>3.932000</td>\n",
              "      <td>3.898889</td>\n",
              "      <td>4.023333</td>\n",
              "      <td>3.893333</td>\n",
              "      <td>3.880000</td>\n",
              "    </tr>\n",
              "    <tr>\n",
              "      <th>VIZ Media LLC</th>\n",
              "      <td>4.050000</td>\n",
              "      <td>4.124000</td>\n",
              "      <td>4.376250</td>\n",
              "      <td>4.294118</td>\n",
              "      <td>4.162083</td>\n",
              "    </tr>\n",
              "    <tr>\n",
              "      <th>Vintage</th>\n",
              "      <td>3.769444</td>\n",
              "      <td>3.884000</td>\n",
              "      <td>3.715000</td>\n",
              "      <td>3.890714</td>\n",
              "      <td>3.855000</td>\n",
              "    </tr>\n",
              "  </tbody>\n",
              "</table>\n",
              "</div>"
            ],
            "text/plain": [
              "publication_year      2003      2004      2005      2006      2007\n",
              "publisher                                                         \n",
              "Ballantine Books  4.007143  3.867500  3.938333  3.878519  3.746667\n",
              "Bantam            3.788333  3.877143  3.998571  3.935000  3.855000\n",
              "Harper Perennial  3.678571  3.976667  3.945556  3.930833  3.754000\n",
              "HarperCollins     4.285000  4.063333  3.947778  4.086000  4.103636\n",
              "Mariner Books     3.869000  3.838571  3.847692  3.835000  3.638000\n",
              "Penguin Books     3.917143  3.941818  3.917143  3.952581  3.862500\n",
              "Penguin Classics  3.931250  3.957333  3.948462  3.982609  4.023333\n",
              "Pocket Books      3.932000  3.898889  4.023333  3.893333  3.880000\n",
              "VIZ Media LLC     4.050000  4.124000  4.376250  4.294118  4.162083\n",
              "Vintage           3.769444  3.884000  3.715000  3.890714  3.855000"
            ]
          },
          "metadata": {
            "tags": []
          },
          "execution_count": 24
        }
      ]
    },
    {
      "cell_type": "code",
      "metadata": {
        "execution": {
          "iopub.execute_input": "2021-05-09T08:10:11.446481Z",
          "iopub.status.busy": "2021-05-09T08:10:11.426064Z",
          "iopub.status.idle": "2021-05-09T08:10:11.711806Z",
          "shell.execute_reply": "2021-05-09T08:10:11.711044Z"
        },
        "papermill": {
          "duration": 0.353657,
          "end_time": "2021-05-09T08:10:11.711955",
          "exception": false,
          "start_time": "2021-05-09T08:10:11.358298",
          "status": "completed"
        },
        "tags": [],
        "id": "stainless-productivity",
        "outputId": "132bbe79-89e0-4d12-bd90-cb7248203a01"
      },
      "source": [
        "fig, ax = plt.subplots(figsize=(15,10))\n",
        "g = sns.heatmap(ax=ax,data=df_subset)"
      ],
      "id": "stainless-productivity",
      "execution_count": null,
      "outputs": [
        {
          "output_type": "display_data",
          "data": {
            "image/png": "[encoded data removed]",
            "text/plain": [
              "<Figure size 1080x720 with 2 Axes>"
            ]
          },
          "metadata": {
            "tags": [],
            "needs_background": "light"
          }
        }
      ]
    },
    {
      "cell_type": "markdown",
      "metadata": {
        "papermill": {
          "duration": 0.044739,
          "end_time": "2021-05-09T08:10:11.801626",
          "exception": false,
          "start_time": "2021-05-09T08:10:11.756887",
          "status": "completed"
        },
        "tags": [],
        "id": "subtle-smell"
      },
      "source": [
        "Violin Plot"
      ],
      "id": "subtle-smell"
    },
    {
      "cell_type": "code",
      "metadata": {
        "execution": {
          "iopub.execute_input": "2021-05-09T08:10:11.898642Z",
          "iopub.status.busy": "2021-05-09T08:10:11.897932Z",
          "iopub.status.idle": "2021-05-09T08:10:11.916942Z",
          "shell.execute_reply": "2021-05-09T08:10:11.916374Z"
        },
        "papermill": {
          "duration": 0.070489,
          "end_time": "2021-05-09T08:10:11.917096",
          "exception": false,
          "start_time": "2021-05-09T08:10:11.846607",
          "status": "completed"
        },
        "tags": [],
        "id": "expired-sugar"
      },
      "source": [
        "most_books = df_book.groupby('authors')['title'].count().reset_index().sort_values('title', ascending=False).head(10).set_index('authors');\n",
        "df_most_books = df_book[df_book['authors'].isin(most_books.index.tolist())]"
      ],
      "id": "expired-sugar",
      "execution_count": null,
      "outputs": []
    },
    {
      "cell_type": "code",
      "metadata": {
        "execution": {
          "iopub.execute_input": "2021-05-09T08:10:12.062441Z",
          "iopub.status.busy": "2021-05-09T08:10:12.042203Z",
          "iopub.status.idle": "2021-05-09T08:10:12.446202Z",
          "shell.execute_reply": "2021-05-09T08:10:12.446782Z"
        },
        "papermill": {
          "duration": 0.482966,
          "end_time": "2021-05-09T08:10:12.446958",
          "exception": false,
          "start_time": "2021-05-09T08:10:11.963992",
          "status": "completed"
        },
        "tags": [],
        "id": "liberal-completion",
        "outputId": "039307f0-2aff-4011-ea39-4f3932142310"
      },
      "source": [
        "plt.figure(figsize=(15,10));\n",
        "ax = sns.violinplot(x=\"authors\", y=\"average_rating\",\n",
        "                    data=df_most_books, palette=\"muted\")\n",
        "ax.set_xticklabels(ax.get_xticklabels(),rotation=30);"
      ],
      "id": "liberal-completion",
      "execution_count": null,
      "outputs": [
        {
          "output_type": "display_data",
          "data": {
            "image/png": "[encoded data removed]",
            "text/plain": [
              "<Figure size 1080x720 with 1 Axes>"
            ]
          },
          "metadata": {
            "tags": [],
            "needs_background": "light"
          }
        }
      ]
    },
    {
      "cell_type": "markdown",
      "metadata": {
        "papermill": {
          "duration": 0.047822,
          "end_time": "2021-05-09T08:10:12.545034",
          "exception": false,
          "start_time": "2021-05-09T08:10:12.497212",
          "status": "completed"
        },
        "tags": [],
        "id": "capable-country"
      },
      "source": [
        "Variation\n",
        "\n",
        "Wordcloud"
      ],
      "id": "capable-country"
    },
    {
      "cell_type": "code",
      "metadata": {
        "execution": {
          "iopub.execute_input": "2021-05-09T08:10:12.645785Z",
          "iopub.status.busy": "2021-05-09T08:10:12.644791Z",
          "iopub.status.idle": "2021-05-09T08:10:12.708169Z",
          "shell.execute_reply": "2021-05-09T08:10:12.707640Z"
        },
        "papermill": {
          "duration": 0.114964,
          "end_time": "2021-05-09T08:10:12.708354",
          "exception": false,
          "start_time": "2021-05-09T08:10:12.593390",
          "status": "completed"
        },
        "tags": [],
        "id": "outside-accused"
      },
      "source": [
        "from wordcloud import WordCloud, STOPWORDS\n",
        "text=df_most_books['title'].tolist()\n",
        "def plot_word_cloud(df_cloud):\n",
        "    stopwords = set(STOPWORDS)\n",
        "    comment_words = ''\n",
        "    for val in df_cloud['title']:\n",
        "      \n",
        "        # typecaste each val to string\n",
        "        val = str(val)\n",
        "\n",
        "        # split the value\n",
        "        tokens = val.split()\n",
        "\n",
        "        # Converts each token into lowercase\n",
        "        for i in range(len(tokens)):\n",
        "            tokens[i] = tokens[i].lower()\n",
        "\n",
        "        comment_words += \" \".join(tokens)+\" \"\n",
        "\n",
        "        wordcloud = WordCloud(width = 800, height = 800,\n",
        "                    background_color ='white',\n",
        "                    stopwords = stopwords,\n",
        "                    min_font_size = 10).generate(comment_words)\n",
        "\n",
        "    #plot the WordCloud image                       \n",
        "    plt.figure(figsize = (8, 8), facecolor = None)\n",
        "    plt.imshow(wordcloud)\n",
        "    plt.axis(\"off\")\n",
        "    plt.tight_layout(pad = 0)\n",
        "\n",
        "    plt.show()"
      ],
      "id": "outside-accused",
      "execution_count": null,
      "outputs": []
    },
    {
      "cell_type": "code",
      "metadata": {
        "execution": {
          "iopub.execute_input": "2021-05-09T08:10:12.815485Z",
          "iopub.status.busy": "2021-05-09T08:10:12.814029Z",
          "iopub.status.idle": "2021-05-09T08:10:30.695210Z",
          "shell.execute_reply": "2021-05-09T08:10:30.694650Z"
        },
        "papermill": {
          "duration": 17.938594,
          "end_time": "2021-05-09T08:10:30.695398",
          "exception": false,
          "start_time": "2021-05-09T08:10:12.756804",
          "status": "completed"
        },
        "tags": [],
        "id": "waiting-virus"
      },
      "source": [
        "# iterate through the csv file\n",
        "df_cloud=df_most_books[df_most_books['authors']=='Stephen King']\n",
        "plot_word_cloud(df_cloud)"
      ],
      "id": "waiting-virus",
      "execution_count": null,
      "outputs": []
    },
    {
      "cell_type": "code",
      "metadata": {
        "execution": {
          "iopub.execute_input": "2021-05-09T08:10:30.815567Z",
          "iopub.status.busy": "2021-05-09T08:10:30.814868Z",
          "iopub.status.idle": "2021-05-09T08:10:45.795875Z",
          "shell.execute_reply": "2021-05-09T08:10:45.796382Z"
        },
        "papermill": {
          "duration": 15.044013,
          "end_time": "2021-05-09T08:10:45.796570",
          "exception": false,
          "start_time": "2021-05-09T08:10:30.752557",
          "status": "completed"
        },
        "tags": [],
        "id": "material-usage"
      },
      "source": [
        "df_cloud=df_most_books[df_most_books['authors']=='Agatha Christie']\n",
        "plot_word_cloud(df_cloud)"
      ],
      "id": "material-usage",
      "execution_count": null,
      "outputs": []
    }
  ]
}